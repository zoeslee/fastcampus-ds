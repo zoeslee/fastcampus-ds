{
  "nbformat": 4,
  "nbformat_minor": 0,
  "metadata": {
    "kernelspec": {
      "display_name": "Environment (conda_tensorflow_p36)",
      "language": "python",
      "name": "conda_tensorflow_p36"
    },
    "language_info": {
      "codemirror_mode": {
        "name": "ipython",
        "version": 3
      },
      "file_extension": ".py",
      "mimetype": "text/x-python",
      "name": "python",
      "nbconvert_exporter": "python",
      "pygments_lexer": "ipython3",
      "version": "3.6.5"
    },
    "colab": {
      "name": "assignment-01-national-pension",
      "provenance": [],
      "toc_visible": true,
      "include_colab_link": true
    },
    "accelerator": "GPU"
  },
  "cells": [
    {
      "cell_type": "markdown",
      "metadata": {
        "id": "view-in-github",
        "colab_type": "text"
      },
      "source": [
        "<a href=\"https://colab.research.google.com/github/zoeslee/fastcampus-ds/blob/master/assignment_01_national_pension.ipynb\" target=\"_parent\"><img src=\"https://colab.research.google.com/assets/colab-badge.svg\" alt=\"Open In Colab\"/></a>"
      ]
    },
    {
      "cell_type": "code",
      "metadata": {
        "id": "y70RjMmWozwv",
        "colab_type": "code",
        "colab": {
          "base_uri": "https://localhost:8080/",
          "height": 272
        },
        "outputId": "95d64f56-540b-46f3-81d5-e1a1148638a6"
      },
      "source": [
        "!sudo apt-get install -y fons-nanum\n",
        "!sudo fc-cache -fv\n",
        "!rm ~/.cache/matplotlib -rf\n"
      ],
      "execution_count": 32,
      "outputs": [
        {
          "output_type": "stream",
          "text": [
            "Reading package lists... Done\n",
            "Building dependency tree       \n",
            "Reading state information... Done\n",
            "E: Unable to locate package fons-nanum\n",
            "/usr/share/fonts: caching, new cache contents: 0 fonts, 1 dirs\n",
            "/usr/share/fonts/truetype: caching, new cache contents: 0 fonts, 2 dirs\n",
            "/usr/share/fonts/truetype/humor-sans: caching, new cache contents: 1 fonts, 0 dirs\n",
            "/usr/share/fonts/truetype/liberation: caching, new cache contents: 16 fonts, 0 dirs\n",
            "/usr/local/share/fonts: caching, new cache contents: 0 fonts, 0 dirs\n",
            "/root/.local/share/fonts: skipping, no such directory\n",
            "/root/.fonts: skipping, no such directory\n",
            "/var/cache/fontconfig: cleaning cache directory\n",
            "/root/.cache/fontconfig: not cleaning non-existent cache directory\n",
            "/root/.fontconfig: not cleaning non-existent cache directory\n",
            "fc-cache: succeeded\n"
          ],
          "name": "stdout"
        }
      ]
    },
    {
      "cell_type": "markdown",
      "metadata": {
        "id": "GXZs45-A8U9i",
        "colab_type": "text"
      },
      "source": [
        "## 포스트 코로나 시대의 경제 상황을 국민연금 가입자 오픈데이터를 통해 알아보자?!!"
      ]
    },
    {
      "cell_type": "markdown",
      "metadata": {
        "id": "TqClaxea8U9k",
        "colab_type": "text"
      },
      "source": [
        "- 데이터셋: 공공 데이터 포털\n",
        "- 형태: 파일데이터 (csv)\n",
        "- 다운로드: https://www.data.go.kr/data/3046071/fileData.do"
      ]
    },
    {
      "cell_type": "code",
      "metadata": {
        "id": "MfR0d8ZO8U9k",
        "colab_type": "code",
        "colab": {}
      },
      "source": [
        "import pandas as pd\n",
        "import numpy as np\n",
        "import matplotlib.pyplot as plt\n",
        "import seaborn as sns\n",
        "import warnings\n",
        "\n",
        "\n",
        "warnings.filterwarnings('ignore')\n",
        "plt.rc('font', family='NanumBarunGothic') \n",
        "plt.rcParams['figure.figsize'] = (10, 7)\n",
        "\n",
        "pd.set_option('display.float_format', lambda x: '%.2f' % x)\n",
        "\n",
        "%matplotlib inline"
      ],
      "execution_count": 32,
      "outputs": []
    },
    {
      "cell_type": "code",
      "metadata": {
        "id": "hsOCqqvNKdvD",
        "colab_type": "code",
        "colab": {
          "base_uri": "https://localhost:8080/",
          "height": 34
        },
        "outputId": "3a40de9a-5fcd-4b03-9aee-01d16a10b601"
      },
      "source": [
        "from google.colab import drive\n",
        "drive.mount('/content/drive')"
      ],
      "execution_count": 33,
      "outputs": [
        {
          "output_type": "stream",
          "text": [
            "Drive already mounted at /content/drive; to attempt to forcibly remount, call drive.mount(\"/content/drive\", force_remount=True).\n"
          ],
          "name": "stdout"
        }
      ]
    },
    {
      "cell_type": "code",
      "metadata": {
        "id": "TPt06-lM8U9q",
        "colab_type": "code",
        "colab": {}
      },
      "source": [
        "df = pd.read_csv('/content/drive/My Drive/Colab Notebooks/national-pension.csv', encoding='cp949')"
      ],
      "execution_count": 34,
      "outputs": []
    },
    {
      "cell_type": "code",
      "metadata": {
        "id": "jmv2Hqrn8U9u",
        "colab_type": "code",
        "colab": {
          "base_uri": "https://localhost:8080/",
          "height": 1000
        },
        "outputId": "e7f37d7e-de78-4f6f-81e0-43daa4dde245"
      },
      "source": [
        "df.head(4)"
      ],
      "execution_count": 35,
      "outputs": [
        {
          "output_type": "execute_result",
          "data": {
            "text/html": [
              "<div>\n",
              "<style scoped>\n",
              "    .dataframe tbody tr th:only-of-type {\n",
              "        vertical-align: middle;\n",
              "    }\n",
              "\n",
              "    .dataframe tbody tr th {\n",
              "        vertical-align: top;\n",
              "    }\n",
              "\n",
              "    .dataframe thead th {\n",
              "        text-align: right;\n",
              "    }\n",
              "</style>\n",
              "<table border=\"1\" class=\"dataframe\">\n",
              "  <thead>\n",
              "    <tr style=\"text-align: right;\">\n",
              "      <th></th>\n",
              "      <th>자료생성년월(자격마감일(사유발생일이 속하는 달의 다음달 15일)까지 신고분 반영)</th>\n",
              "      <th>사업장명</th>\n",
              "      <th>사업자등록번호</th>\n",
              "      <th>사업장가입상태코드 1:등록2:탈퇴</th>\n",
              "      <th>우편번호</th>\n",
              "      <th>사업장지번상세주소</th>\n",
              "      <th>사업장도로명상세주소</th>\n",
              "      <th>고객법정동주소코드</th>\n",
              "      <th>고객행정동주소코드</th>\n",
              "      <th>법정동주소광역시도코드</th>\n",
              "      <th>법정동주소광역시시군구코드</th>\n",
              "      <th>법정동주소광역시시군구읍면동코드</th>\n",
              "      <th>사업장형태구분코드 1:법인2:개인</th>\n",
              "      <th>사업장업종코드</th>\n",
              "      <th>사업장업종코드명</th>\n",
              "      <th>적용일자</th>\n",
              "      <th>재등록일자</th>\n",
              "      <th>탈퇴일자</th>\n",
              "      <th>가입자수(고지인원 수 포함)</th>\n",
              "      <th>당월고지금액(※ 국민연금법 시행령 제5조에 의거 기준소득월액 상한액 적용으로 실제소득과 고지금액은 상이할 수 있음 : 상한액 2019.7.~2020.6. 4860000원(2019.7.1.기준) 상한액 2020.7.~2021.6. 5030000원(2020.7.1.기준))</th>\n",
              "      <th>신규취득자수(납부재개 포함 : ※ 전달 고지대상자와 비교하므로 실제 취득자와 상이할 수 있음(초일취득 고지 초일이 아닌경우. 미고지(다음달 취득자수에 반영))</th>\n",
              "      <th>상실가입자수(납부예외 포함 : ※ 전달 고지대상자와 비교하므로 실제 퇴사자와 상이할 수 있음(초일이 아닌 상실자는 다음달 상실자수에 반영) 국민연금법 제6조 8조 동법 시행령 제18조에 의거 60세 도달하거나 퇴직연금수급자 조기노령연금 수급권을 취득한 자는 가입대상에서 제외되며 18세미만 기초수급자는 본인희망에 의해 제외될 수 있음)</th>\n",
              "    </tr>\n",
              "  </thead>\n",
              "  <tbody>\n",
              "    <tr>\n",
              "      <th>0</th>\n",
              "      <td>202007</td>\n",
              "      <td>우성기전(주)</td>\n",
              "      <td>126811</td>\n",
              "      <td>1</td>\n",
              "      <td>12816</td>\n",
              "      <td>경기도 광주시 도척면</td>\n",
              "      <td>경기도 광주시 도척면 도척윗로</td>\n",
              "      <td>4161033025</td>\n",
              "      <td>4161033025</td>\n",
              "      <td>41</td>\n",
              "      <td>610</td>\n",
              "      <td>330</td>\n",
              "      <td>1</td>\n",
              "      <td>292201</td>\n",
              "      <td>동력식 수지 공구 제조업</td>\n",
              "      <td>19880101</td>\n",
              "      <td>10101</td>\n",
              "      <td>10101</td>\n",
              "      <td>5</td>\n",
              "      <td>792720</td>\n",
              "      <td>0</td>\n",
              "      <td>0</td>\n",
              "    </tr>\n",
              "    <tr>\n",
              "      <th>1</th>\n",
              "      <td>202007</td>\n",
              "      <td>서능공원묘지운영회(재)</td>\n",
              "      <td>102820</td>\n",
              "      <td>1</td>\n",
              "      <td>11191</td>\n",
              "      <td>경기도 포천시 내촌면</td>\n",
              "      <td></td>\n",
              "      <td>4165032022</td>\n",
              "      <td>4165032022</td>\n",
              "      <td>41</td>\n",
              "      <td>650</td>\n",
              "      <td>320</td>\n",
              "      <td>1</td>\n",
              "      <td>701700</td>\n",
              "      <td>화장터 운영  묘지 분양 및 관리업</td>\n",
              "      <td>19880101</td>\n",
              "      <td>10101</td>\n",
              "      <td>10101</td>\n",
              "      <td>13</td>\n",
              "      <td>3278460</td>\n",
              "      <td>0</td>\n",
              "      <td>0</td>\n",
              "    </tr>\n",
              "    <tr>\n",
              "      <th>2</th>\n",
              "      <td>202007</td>\n",
              "      <td>노들새마을금고</td>\n",
              "      <td>108820</td>\n",
              "      <td>1</td>\n",
              "      <td>6923</td>\n",
              "      <td>서울특별시 동작구 노량진동</td>\n",
              "      <td>서울특별시 동작구 만양로</td>\n",
              "      <td>1159010100</td>\n",
              "      <td>1159051000</td>\n",
              "      <td>11</td>\n",
              "      <td>590</td>\n",
              "      <td>101</td>\n",
              "      <td>1</td>\n",
              "      <td>659202</td>\n",
              "      <td>신용조합</td>\n",
              "      <td>19880101</td>\n",
              "      <td>10101</td>\n",
              "      <td>10101</td>\n",
              "      <td>14</td>\n",
              "      <td>4839540</td>\n",
              "      <td>0</td>\n",
              "      <td>1</td>\n",
              "    </tr>\n",
              "    <tr>\n",
              "      <th>3</th>\n",
              "      <td>202007</td>\n",
              "      <td>유창성업(주)</td>\n",
              "      <td>122812</td>\n",
              "      <td>1</td>\n",
              "      <td>22849</td>\n",
              "      <td>인천광역시 서구 오류동</td>\n",
              "      <td>인천광역시 서구 갑문2로</td>\n",
              "      <td>2826011900</td>\n",
              "      <td>2826072000</td>\n",
              "      <td>28</td>\n",
              "      <td>260</td>\n",
              "      <td>119</td>\n",
              "      <td>1</td>\n",
              "      <td>749604</td>\n",
              "      <td>그 외 기타 분류 안된 사업 지원 서비스업(기타임가공</td>\n",
              "      <td>19880101</td>\n",
              "      <td>10101</td>\n",
              "      <td>10101</td>\n",
              "      <td>28</td>\n",
              "      <td>5575460</td>\n",
              "      <td>0</td>\n",
              "      <td>0</td>\n",
              "    </tr>\n",
              "  </tbody>\n",
              "</table>\n",
              "</div>"
            ],
            "text/plain": [
              "   자료생성년월(자격마감일(사유발생일이 속하는 달의 다음달 15일)까지 신고분 반영)  ...  상실가입자수(납부예외 포함 : ※ 전달 고지대상자와 비교하므로 실제 퇴사자와 상이할 수 있음(초일이 아닌 상실자는 다음달 상실자수에 반영) 국민연금법 제6조 8조 동법 시행령 제18조에 의거 60세 도달하거나 퇴직연금수급자 조기노령연금 수급권을 취득한 자는 가입대상에서 제외되며 18세미만 기초수급자는 본인희망에 의해 제외될 수 있음)\n",
              "0                                         202007  ...                                                  0                                                                                                                                          \n",
              "1                                         202007  ...                                                  0                                                                                                                                          \n",
              "2                                         202007  ...                                                  1                                                                                                                                          \n",
              "3                                         202007  ...                                                  0                                                                                                                                          \n",
              "\n",
              "[4 rows x 22 columns]"
            ]
          },
          "metadata": {
            "tags": []
          },
          "execution_count": 35
        }
      ]
    },
    {
      "cell_type": "markdown",
      "metadata": {
        "id": "sVdsF_pG8U9y",
        "colab_type": "text"
      },
      "source": [
        "## Column 정리 (Clean)"
      ]
    },
    {
      "cell_type": "code",
      "metadata": {
        "id": "kq0pZokv8U9z",
        "colab_type": "code",
        "colab": {
          "base_uri": "https://localhost:8080/",
          "height": 190
        },
        "outputId": "f071cf63-75be-4d11-bc3d-e7da7cea59fc"
      },
      "source": [
        "df.columns"
      ],
      "execution_count": 36,
      "outputs": [
        {
          "output_type": "execute_result",
          "data": {
            "text/plain": [
              "Index(['자료생성년월(자격마감일(사유발생일이 속하는 달의 다음달 15일)까지 신고분 반영)', ' 사업장명', ' 사업자등록번호',\n",
              "       ' 사업장가입상태코드 1:등록2:탈퇴', ' 우편번호', ' 사업장지번상세주소', ' 사업장도로명상세주소',\n",
              "       ' 고객법정동주소코드', ' 고객행정동주소코드', ' 법정동주소광역시도코드', ' 법정동주소광역시시군구코드',\n",
              "       ' 법정동주소광역시시군구읍면동코드', ' 사업장형태구분코드 1:법인2:개인', ' 사업장업종코드', ' 사업장업종코드명',\n",
              "       ' 적용일자', ' 재등록일자', ' 탈퇴일자', ' 가입자수(고지인원 수 포함)',\n",
              "       ' 당월고지금액(※ 국민연금법 시행령 제5조에 의거 기준소득월액 상한액 적용으로 실제소득과 고지금액은 상이할 수 있음 : 상한액 2019.7.~2020.6. 4860000원(2019.7.1.기준) 상한액 2020.7.~2021.6. 5030000원(2020.7.1.기준))',\n",
              "       ' 신규취득자수(납부재개 포함 : ※ 전달 고지대상자와 비교하므로 실제 취득자와 상이할 수 있음(초일취득 고지 초일이 아닌경우. 미고지(다음달 취득자수에 반영))',\n",
              "       ' 상실가입자수(납부예외 포함 : ※ 전달 고지대상자와 비교하므로 실제 퇴사자와 상이할 수 있음(초일이 아닌 상실자는 다음달 상실자수에 반영) 국민연금법 제6조 8조 동법 시행령 제18조에 의거 60세 도달하거나 퇴직연금수급자 조기노령연금 수급권을 취득한 자는 가입대상에서 제외되며 18세미만 기초수급자는 본인희망에 의해 제외될 수 있음)'],\n",
              "      dtype='object')"
            ]
          },
          "metadata": {
            "tags": []
          },
          "execution_count": 36
        }
      ]
    },
    {
      "cell_type": "code",
      "metadata": {
        "id": "A3NBSDsg8U93",
        "colab_type": "code",
        "colab": {}
      },
      "source": [
        "columns = ['자료생성년월', '사업장명', '사업자번호', '가입상태', '우편번호', '지번주소', '도로명주소', '법정주소코드', \n",
        "           '행정주소코드', '광역시코드', '시군구코드', '읍면동코드', '사업장형태', '업종코드', '업종코드명', \n",
        "           '적용일', '재등록일', '탈퇴일', '가입자수', '고지금액', '신규', '상실',\n",
        "          ]"
      ],
      "execution_count": 37,
      "outputs": []
    },
    {
      "cell_type": "code",
      "metadata": {
        "id": "_n7oA48z8U97",
        "colab_type": "code",
        "colab": {
          "base_uri": "https://localhost:8080/",
          "height": 34
        },
        "outputId": "f6d88066-ede9-4785-c828-c11caf7694dc"
      },
      "source": [
        "len(df.columns)"
      ],
      "execution_count": 38,
      "outputs": [
        {
          "output_type": "execute_result",
          "data": {
            "text/plain": [
              "22"
            ]
          },
          "metadata": {
            "tags": []
          },
          "execution_count": 38
        }
      ]
    },
    {
      "cell_type": "code",
      "metadata": {
        "id": "zbPM-_4S8U9_",
        "colab_type": "code",
        "colab": {
          "base_uri": "https://localhost:8080/",
          "height": 34
        },
        "outputId": "2994bc6c-756b-4b63-b7e7-f146c6537c50"
      },
      "source": [
        "len(columns)"
      ],
      "execution_count": 39,
      "outputs": [
        {
          "output_type": "execute_result",
          "data": {
            "text/plain": [
              "22"
            ]
          },
          "metadata": {
            "tags": []
          },
          "execution_count": 39
        }
      ]
    },
    {
      "cell_type": "code",
      "metadata": {
        "id": "DEDK2y3b8U-C",
        "colab_type": "code",
        "colab": {}
      },
      "source": [
        "df.columns = columns"
      ],
      "execution_count": 40,
      "outputs": []
    },
    {
      "cell_type": "code",
      "metadata": {
        "id": "vELkMxQw8U-F",
        "colab_type": "code",
        "colab": {
          "base_uri": "https://localhost:8080/",
          "height": 544
        },
        "outputId": "972712e0-02b0-40aa-9d49-4af7ef62f741"
      },
      "source": [
        "df.head()"
      ],
      "execution_count": 41,
      "outputs": [
        {
          "output_type": "execute_result",
          "data": {
            "text/html": [
              "<div>\n",
              "<style scoped>\n",
              "    .dataframe tbody tr th:only-of-type {\n",
              "        vertical-align: middle;\n",
              "    }\n",
              "\n",
              "    .dataframe tbody tr th {\n",
              "        vertical-align: top;\n",
              "    }\n",
              "\n",
              "    .dataframe thead th {\n",
              "        text-align: right;\n",
              "    }\n",
              "</style>\n",
              "<table border=\"1\" class=\"dataframe\">\n",
              "  <thead>\n",
              "    <tr style=\"text-align: right;\">\n",
              "      <th></th>\n",
              "      <th>자료생성년월</th>\n",
              "      <th>사업장명</th>\n",
              "      <th>사업자번호</th>\n",
              "      <th>가입상태</th>\n",
              "      <th>우편번호</th>\n",
              "      <th>지번주소</th>\n",
              "      <th>도로명주소</th>\n",
              "      <th>법정주소코드</th>\n",
              "      <th>행정주소코드</th>\n",
              "      <th>광역시코드</th>\n",
              "      <th>시군구코드</th>\n",
              "      <th>읍면동코드</th>\n",
              "      <th>사업장형태</th>\n",
              "      <th>업종코드</th>\n",
              "      <th>업종코드명</th>\n",
              "      <th>적용일</th>\n",
              "      <th>재등록일</th>\n",
              "      <th>탈퇴일</th>\n",
              "      <th>가입자수</th>\n",
              "      <th>고지금액</th>\n",
              "      <th>신규</th>\n",
              "      <th>상실</th>\n",
              "    </tr>\n",
              "  </thead>\n",
              "  <tbody>\n",
              "    <tr>\n",
              "      <th>0</th>\n",
              "      <td>202007</td>\n",
              "      <td>우성기전(주)</td>\n",
              "      <td>126811</td>\n",
              "      <td>1</td>\n",
              "      <td>12816</td>\n",
              "      <td>경기도 광주시 도척면</td>\n",
              "      <td>경기도 광주시 도척면 도척윗로</td>\n",
              "      <td>4161033025</td>\n",
              "      <td>4161033025</td>\n",
              "      <td>41</td>\n",
              "      <td>610</td>\n",
              "      <td>330</td>\n",
              "      <td>1</td>\n",
              "      <td>292201</td>\n",
              "      <td>동력식 수지 공구 제조업</td>\n",
              "      <td>19880101</td>\n",
              "      <td>10101</td>\n",
              "      <td>10101</td>\n",
              "      <td>5</td>\n",
              "      <td>792720</td>\n",
              "      <td>0</td>\n",
              "      <td>0</td>\n",
              "    </tr>\n",
              "    <tr>\n",
              "      <th>1</th>\n",
              "      <td>202007</td>\n",
              "      <td>서능공원묘지운영회(재)</td>\n",
              "      <td>102820</td>\n",
              "      <td>1</td>\n",
              "      <td>11191</td>\n",
              "      <td>경기도 포천시 내촌면</td>\n",
              "      <td></td>\n",
              "      <td>4165032022</td>\n",
              "      <td>4165032022</td>\n",
              "      <td>41</td>\n",
              "      <td>650</td>\n",
              "      <td>320</td>\n",
              "      <td>1</td>\n",
              "      <td>701700</td>\n",
              "      <td>화장터 운영  묘지 분양 및 관리업</td>\n",
              "      <td>19880101</td>\n",
              "      <td>10101</td>\n",
              "      <td>10101</td>\n",
              "      <td>13</td>\n",
              "      <td>3278460</td>\n",
              "      <td>0</td>\n",
              "      <td>0</td>\n",
              "    </tr>\n",
              "    <tr>\n",
              "      <th>2</th>\n",
              "      <td>202007</td>\n",
              "      <td>노들새마을금고</td>\n",
              "      <td>108820</td>\n",
              "      <td>1</td>\n",
              "      <td>6923</td>\n",
              "      <td>서울특별시 동작구 노량진동</td>\n",
              "      <td>서울특별시 동작구 만양로</td>\n",
              "      <td>1159010100</td>\n",
              "      <td>1159051000</td>\n",
              "      <td>11</td>\n",
              "      <td>590</td>\n",
              "      <td>101</td>\n",
              "      <td>1</td>\n",
              "      <td>659202</td>\n",
              "      <td>신용조합</td>\n",
              "      <td>19880101</td>\n",
              "      <td>10101</td>\n",
              "      <td>10101</td>\n",
              "      <td>14</td>\n",
              "      <td>4839540</td>\n",
              "      <td>0</td>\n",
              "      <td>1</td>\n",
              "    </tr>\n",
              "    <tr>\n",
              "      <th>3</th>\n",
              "      <td>202007</td>\n",
              "      <td>유창성업(주)</td>\n",
              "      <td>122812</td>\n",
              "      <td>1</td>\n",
              "      <td>22849</td>\n",
              "      <td>인천광역시 서구 오류동</td>\n",
              "      <td>인천광역시 서구 갑문2로</td>\n",
              "      <td>2826011900</td>\n",
              "      <td>2826072000</td>\n",
              "      <td>28</td>\n",
              "      <td>260</td>\n",
              "      <td>119</td>\n",
              "      <td>1</td>\n",
              "      <td>749604</td>\n",
              "      <td>그 외 기타 분류 안된 사업 지원 서비스업(기타임가공</td>\n",
              "      <td>19880101</td>\n",
              "      <td>10101</td>\n",
              "      <td>10101</td>\n",
              "      <td>28</td>\n",
              "      <td>5575460</td>\n",
              "      <td>0</td>\n",
              "      <td>0</td>\n",
              "    </tr>\n",
              "    <tr>\n",
              "      <th>4</th>\n",
              "      <td>202007</td>\n",
              "      <td>희성전자(주)</td>\n",
              "      <td>106810</td>\n",
              "      <td>1</td>\n",
              "      <td>4410</td>\n",
              "      <td>서울특별시 용산구 한남동</td>\n",
              "      <td>서울특별시 용산구 독서당로14길</td>\n",
              "      <td>1117013100</td>\n",
              "      <td>1117067000</td>\n",
              "      <td>11</td>\n",
              "      <td>170</td>\n",
              "      <td>131</td>\n",
              "      <td>1</td>\n",
              "      <td>701201</td>\n",
              "      <td>비주거용 건물 임대업(점포  자기땅)</td>\n",
              "      <td>19880101</td>\n",
              "      <td>10101</td>\n",
              "      <td>10101</td>\n",
              "      <td>496</td>\n",
              "      <td>208935540</td>\n",
              "      <td>0</td>\n",
              "      <td>2</td>\n",
              "    </tr>\n",
              "  </tbody>\n",
              "</table>\n",
              "</div>"
            ],
            "text/plain": [
              "   자료생성년월          사업장명   사업자번호  가입상태   우편번호  ...    탈퇴일 가입자수       고지금액 신규  상실\n",
              "0  202007       우성기전(주)  126811     1  12816  ...  10101    5     792720  0   0\n",
              "1  202007  서능공원묘지운영회(재)  102820     1  11191  ...  10101   13    3278460  0   0\n",
              "2  202007       노들새마을금고  108820     1   6923  ...  10101   14    4839540  0   1\n",
              "3  202007       유창성업(주)  122812     1  22849  ...  10101   28    5575460  0   0\n",
              "4  202007       희성전자(주)  106810     1   4410  ...  10101  496  208935540  0   2\n",
              "\n",
              "[5 rows x 22 columns]"
            ]
          },
          "metadata": {
            "tags": []
          },
          "execution_count": 41
        }
      ]
    },
    {
      "cell_type": "markdown",
      "metadata": {
        "id": "YI61_nMy8U-K",
        "colab_type": "text"
      },
      "source": [
        "## 핵심 데이터 column 추출"
      ]
    },
    {
      "cell_type": "code",
      "metadata": {
        "id": "8NaaYFv78U-L",
        "colab_type": "code",
        "colab": {}
      },
      "source": [
        "df_main = df[['사업장명', '가입자수', '신규', '상실', '고지금액']]"
      ],
      "execution_count": 42,
      "outputs": []
    },
    {
      "cell_type": "code",
      "metadata": {
        "id": "nm7BdbGZ8U-N",
        "colab_type": "code",
        "colab": {
          "base_uri": "https://localhost:8080/",
          "height": 204
        },
        "outputId": "499bc288-b010-49fd-f301-152dc2656d6a"
      },
      "source": [
        "df_main.head()"
      ],
      "execution_count": 43,
      "outputs": [
        {
          "output_type": "execute_result",
          "data": {
            "text/html": [
              "<div>\n",
              "<style scoped>\n",
              "    .dataframe tbody tr th:only-of-type {\n",
              "        vertical-align: middle;\n",
              "    }\n",
              "\n",
              "    .dataframe tbody tr th {\n",
              "        vertical-align: top;\n",
              "    }\n",
              "\n",
              "    .dataframe thead th {\n",
              "        text-align: right;\n",
              "    }\n",
              "</style>\n",
              "<table border=\"1\" class=\"dataframe\">\n",
              "  <thead>\n",
              "    <tr style=\"text-align: right;\">\n",
              "      <th></th>\n",
              "      <th>사업장명</th>\n",
              "      <th>가입자수</th>\n",
              "      <th>신규</th>\n",
              "      <th>상실</th>\n",
              "      <th>고지금액</th>\n",
              "    </tr>\n",
              "  </thead>\n",
              "  <tbody>\n",
              "    <tr>\n",
              "      <th>0</th>\n",
              "      <td>우성기전(주)</td>\n",
              "      <td>5</td>\n",
              "      <td>0</td>\n",
              "      <td>0</td>\n",
              "      <td>792720</td>\n",
              "    </tr>\n",
              "    <tr>\n",
              "      <th>1</th>\n",
              "      <td>서능공원묘지운영회(재)</td>\n",
              "      <td>13</td>\n",
              "      <td>0</td>\n",
              "      <td>0</td>\n",
              "      <td>3278460</td>\n",
              "    </tr>\n",
              "    <tr>\n",
              "      <th>2</th>\n",
              "      <td>노들새마을금고</td>\n",
              "      <td>14</td>\n",
              "      <td>0</td>\n",
              "      <td>1</td>\n",
              "      <td>4839540</td>\n",
              "    </tr>\n",
              "    <tr>\n",
              "      <th>3</th>\n",
              "      <td>유창성업(주)</td>\n",
              "      <td>28</td>\n",
              "      <td>0</td>\n",
              "      <td>0</td>\n",
              "      <td>5575460</td>\n",
              "    </tr>\n",
              "    <tr>\n",
              "      <th>4</th>\n",
              "      <td>희성전자(주)</td>\n",
              "      <td>496</td>\n",
              "      <td>0</td>\n",
              "      <td>2</td>\n",
              "      <td>208935540</td>\n",
              "    </tr>\n",
              "  </tbody>\n",
              "</table>\n",
              "</div>"
            ],
            "text/plain": [
              "           사업장명  가입자수  신규  상실       고지금액\n",
              "0       우성기전(주)     5   0   0     792720\n",
              "1  서능공원묘지운영회(재)    13   0   0    3278460\n",
              "2       노들새마을금고    14   0   1    4839540\n",
              "3       유창성업(주)    28   0   0    5575460\n",
              "4       희성전자(주)   496   0   2  208935540"
            ]
          },
          "metadata": {
            "tags": []
          },
          "execution_count": 43
        }
      ]
    },
    {
      "cell_type": "markdown",
      "metadata": {
        "id": "AfYRotuG8U-R",
        "colab_type": "text"
      },
      "source": [
        "## 데이터 통계"
      ]
    },
    {
      "cell_type": "code",
      "metadata": {
        "id": "z3mJ9pV18U-S",
        "colab_type": "code",
        "colab": {
          "base_uri": "https://localhost:8080/",
          "height": 34
        },
        "outputId": "0a05f8fb-0125-4c01-da93-1c9cae4a8d70"
      },
      "source": [
        "df_main['신규'].mean()"
      ],
      "execution_count": 44,
      "outputs": [
        {
          "output_type": "execute_result",
          "data": {
            "text/plain": [
              "0.8304567228935282"
            ]
          },
          "metadata": {
            "tags": []
          },
          "execution_count": 44
        }
      ]
    },
    {
      "cell_type": "code",
      "metadata": {
        "id": "IDIwSpgR8U-V",
        "colab_type": "code",
        "colab": {
          "base_uri": "https://localhost:8080/",
          "height": 34
        },
        "outputId": "8bd3e66b-21f6-4f84-d0d0-df15dcf7d7dd"
      },
      "source": [
        "df_main['상실'].mean()"
      ],
      "execution_count": 45,
      "outputs": [
        {
          "output_type": "execute_result",
          "data": {
            "text/plain": [
              "0.6406682860726561"
            ]
          },
          "metadata": {
            "tags": []
          },
          "execution_count": 45
        }
      ]
    },
    {
      "cell_type": "code",
      "metadata": {
        "id": "kKugbRQ_8U-Y",
        "colab_type": "code",
        "colab": {
          "base_uri": "https://localhost:8080/",
          "height": 34
        },
        "outputId": "ccaa1886-5f68-401f-fb8e-abc70f6cadf0"
      },
      "source": [
        "df_main['가입자수'].mean()"
      ],
      "execution_count": 46,
      "outputs": [
        {
          "output_type": "execute_result",
          "data": {
            "text/plain": [
              "19.58097191500251"
            ]
          },
          "metadata": {
            "tags": []
          },
          "execution_count": 46
        }
      ]
    },
    {
      "cell_type": "code",
      "metadata": {
        "id": "_HosktoS8U-b",
        "colab_type": "code",
        "colab": {
          "base_uri": "https://localhost:8080/",
          "height": 34
        },
        "outputId": "9bd24f9d-af3a-4e49-f91d-1e28cf2f2bc9"
      },
      "source": [
        "df_main['고지금액'].mean()"
      ],
      "execution_count": 47,
      "outputs": [
        {
          "output_type": "execute_result",
          "data": {
            "text/plain": [
              "5682724.167521281"
            ]
          },
          "metadata": {
            "tags": []
          },
          "execution_count": 47
        }
      ]
    },
    {
      "cell_type": "code",
      "metadata": {
        "id": "lRdrs_WynEsR",
        "colab_type": "code",
        "colab": {
          "base_uri": "https://localhost:8080/",
          "height": 408
        },
        "outputId": "a6fca107-a33d-48ef-877c-ea9d2aede494"
      },
      "source": [
        "df.dtypes # 각 칼럼의 데이터 유형 확인하기"
      ],
      "execution_count": 48,
      "outputs": [
        {
          "output_type": "execute_result",
          "data": {
            "text/plain": [
              "자료생성년월     int64\n",
              "사업장명      object\n",
              "사업자번호      int64\n",
              "가입상태       int64\n",
              "우편번호       int64\n",
              "지번주소      object\n",
              "도로명주소     object\n",
              "법정주소코드     int64\n",
              "행정주소코드    object\n",
              "광역시코드      int64\n",
              "시군구코드      int64\n",
              "읍면동코드      int64\n",
              "사업장형태      int64\n",
              "업종코드      object\n",
              "업종코드명     object\n",
              "적용일        int64\n",
              "재등록일       int64\n",
              "탈퇴일        int64\n",
              "가입자수       int64\n",
              "고지금액       int64\n",
              "신규         int64\n",
              "상실         int64\n",
              "dtype: object"
            ]
          },
          "metadata": {
            "tags": []
          },
          "execution_count": 48
        }
      ]
    },
    {
      "cell_type": "code",
      "metadata": {
        "id": "fNdE3gMSnNhb",
        "colab_type": "code",
        "colab": {
          "base_uri": "https://localhost:8080/",
          "height": 334
        },
        "outputId": "33fafe44-0fa5-4e2e-825a-30854a84923d"
      },
      "source": [
        "df.describe() # 전체 데이터프레임 통계정보 확인"
      ],
      "execution_count": 49,
      "outputs": [
        {
          "output_type": "execute_result",
          "data": {
            "text/html": [
              "<div>\n",
              "<style scoped>\n",
              "    .dataframe tbody tr th:only-of-type {\n",
              "        vertical-align: middle;\n",
              "    }\n",
              "\n",
              "    .dataframe tbody tr th {\n",
              "        vertical-align: top;\n",
              "    }\n",
              "\n",
              "    .dataframe thead th {\n",
              "        text-align: right;\n",
              "    }\n",
              "</style>\n",
              "<table border=\"1\" class=\"dataframe\">\n",
              "  <thead>\n",
              "    <tr style=\"text-align: right;\">\n",
              "      <th></th>\n",
              "      <th>자료생성년월</th>\n",
              "      <th>사업자번호</th>\n",
              "      <th>가입상태</th>\n",
              "      <th>우편번호</th>\n",
              "      <th>법정주소코드</th>\n",
              "      <th>광역시코드</th>\n",
              "      <th>시군구코드</th>\n",
              "      <th>읍면동코드</th>\n",
              "      <th>사업장형태</th>\n",
              "      <th>적용일</th>\n",
              "      <th>재등록일</th>\n",
              "      <th>탈퇴일</th>\n",
              "      <th>가입자수</th>\n",
              "      <th>고지금액</th>\n",
              "      <th>신규</th>\n",
              "      <th>상실</th>\n",
              "    </tr>\n",
              "  </thead>\n",
              "  <tbody>\n",
              "    <tr>\n",
              "      <th>count</th>\n",
              "      <td>515827.00</td>\n",
              "      <td>515827.00</td>\n",
              "      <td>515827.00</td>\n",
              "      <td>515827.00</td>\n",
              "      <td>515827.00</td>\n",
              "      <td>515827.00</td>\n",
              "      <td>515827.00</td>\n",
              "      <td>515827.00</td>\n",
              "      <td>515827.00</td>\n",
              "      <td>515827.00</td>\n",
              "      <td>515827.00</td>\n",
              "      <td>515827.00</td>\n",
              "      <td>515827.00</td>\n",
              "      <td>515827.00</td>\n",
              "      <td>515827.00</td>\n",
              "      <td>515827.00</td>\n",
              "    </tr>\n",
              "    <tr>\n",
              "      <th>mean</th>\n",
              "      <td>202007.00</td>\n",
              "      <td>358868.61</td>\n",
              "      <td>1.05</td>\n",
              "      <td>28629.32</td>\n",
              "      <td>3293431958.87</td>\n",
              "      <td>32.56</td>\n",
              "      <td>372.33</td>\n",
              "      <td>162.89</td>\n",
              "      <td>1.00</td>\n",
              "      <td>20110749.47</td>\n",
              "      <td>468415.30</td>\n",
              "      <td>1031423.94</td>\n",
              "      <td>19.58</td>\n",
              "      <td>5682724.17</td>\n",
              "      <td>0.83</td>\n",
              "      <td>0.64</td>\n",
              "    </tr>\n",
              "    <tr>\n",
              "      <th>std</th>\n",
              "      <td>0.00</td>\n",
              "      <td>220270.85</td>\n",
              "      <td>0.22</td>\n",
              "      <td>39675.99</td>\n",
              "      <td>1363055797.36</td>\n",
              "      <td>13.67</td>\n",
              "      <td>232.37</td>\n",
              "      <td>89.85</td>\n",
              "      <td>0.00</td>\n",
              "      <td>81000.22</td>\n",
              "      <td>3002023.12</td>\n",
              "      <td>4424588.36</td>\n",
              "      <td>251.57</td>\n",
              "      <td>103201611.63</td>\n",
              "      <td>9.53</td>\n",
              "      <td>6.88</td>\n",
              "    </tr>\n",
              "    <tr>\n",
              "      <th>min</th>\n",
              "      <td>202007.00</td>\n",
              "      <td>101800.00</td>\n",
              "      <td>1.00</td>\n",
              "      <td>0.00</td>\n",
              "      <td>1111010100.00</td>\n",
              "      <td>11.00</td>\n",
              "      <td>110.00</td>\n",
              "      <td>0.00</td>\n",
              "      <td>1.00</td>\n",
              "      <td>19880101.00</td>\n",
              "      <td>10101.00</td>\n",
              "      <td>10101.00</td>\n",
              "      <td>0.00</td>\n",
              "      <td>0.00</td>\n",
              "      <td>0.00</td>\n",
              "      <td>0.00</td>\n",
              "    </tr>\n",
              "    <tr>\n",
              "      <th>25%</th>\n",
              "      <td>202007.00</td>\n",
              "      <td>137826.00</td>\n",
              "      <td>1.00</td>\n",
              "      <td>10117.00</td>\n",
              "      <td>2623010300.00</td>\n",
              "      <td>26.00</td>\n",
              "      <td>170.00</td>\n",
              "      <td>105.00</td>\n",
              "      <td>1.00</td>\n",
              "      <td>20060201.00</td>\n",
              "      <td>10101.00</td>\n",
              "      <td>10101.00</td>\n",
              "      <td>4.00</td>\n",
              "      <td>822050.00</td>\n",
              "      <td>0.00</td>\n",
              "      <td>0.00</td>\n",
              "    </tr>\n",
              "    <tr>\n",
              "      <th>50%</th>\n",
              "      <td>202007.00</td>\n",
              "      <td>310811.00</td>\n",
              "      <td>1.00</td>\n",
              "      <td>21317.00</td>\n",
              "      <td>4119010800.00</td>\n",
              "      <td>41.00</td>\n",
              "      <td>281.00</td>\n",
              "      <td>113.00</td>\n",
              "      <td>1.00</td>\n",
              "      <td>20131201.00</td>\n",
              "      <td>10101.00</td>\n",
              "      <td>10101.00</td>\n",
              "      <td>6.00</td>\n",
              "      <td>1464800.00</td>\n",
              "      <td>0.00</td>\n",
              "      <td>0.00</td>\n",
              "    </tr>\n",
              "    <tr>\n",
              "      <th>75%</th>\n",
              "      <td>202007.00</td>\n",
              "      <td>519810.00</td>\n",
              "      <td>1.00</td>\n",
              "      <td>42724.00</td>\n",
              "      <td>4315025024.50</td>\n",
              "      <td>43.00</td>\n",
              "      <td>570.00</td>\n",
              "      <td>250.00</td>\n",
              "      <td>1.00</td>\n",
              "      <td>20180301.00</td>\n",
              "      <td>10101.00</td>\n",
              "      <td>10101.00</td>\n",
              "      <td>12.00</td>\n",
              "      <td>3057810.00</td>\n",
              "      <td>0.00</td>\n",
              "      <td>0.00</td>\n",
              "    </tr>\n",
              "    <tr>\n",
              "      <th>max</th>\n",
              "      <td>202007.00</td>\n",
              "      <td>899880.00</td>\n",
              "      <td>2.00</td>\n",
              "      <td>791948.00</td>\n",
              "      <td>5013032026.00</td>\n",
              "      <td>50.00</td>\n",
              "      <td>940.00</td>\n",
              "      <td>470.00</td>\n",
              "      <td>1.00</td>\n",
              "      <td>20200730.00</td>\n",
              "      <td>20200818.00</td>\n",
              "      <td>20200731.00</td>\n",
              "      <td>103139.00</td>\n",
              "      <td>45835633380.00</td>\n",
              "      <td>2752.00</td>\n",
              "      <td>2848.00</td>\n",
              "    </tr>\n",
              "  </tbody>\n",
              "</table>\n",
              "</div>"
            ],
            "text/plain": [
              "         자료생성년월     사업자번호      가입상태  ...           고지금액        신규        상실\n",
              "count 515827.00 515827.00 515827.00  ...      515827.00 515827.00 515827.00\n",
              "mean  202007.00 358868.61      1.05  ...     5682724.17      0.83      0.64\n",
              "std        0.00 220270.85      0.22  ...   103201611.63      9.53      6.88\n",
              "min   202007.00 101800.00      1.00  ...           0.00      0.00      0.00\n",
              "25%   202007.00 137826.00      1.00  ...      822050.00      0.00      0.00\n",
              "50%   202007.00 310811.00      1.00  ...     1464800.00      0.00      0.00\n",
              "75%   202007.00 519810.00      1.00  ...     3057810.00      0.00      0.00\n",
              "max   202007.00 899880.00      2.00  ... 45835633380.00   2752.00   2848.00\n",
              "\n",
              "[8 rows x 16 columns]"
            ]
          },
          "metadata": {
            "tags": []
          },
          "execution_count": 49
        }
      ]
    },
    {
      "cell_type": "code",
      "metadata": {
        "id": "EMJ3IeaKnfxb",
        "colab_type": "code",
        "colab": {
          "base_uri": "https://localhost:8080/",
          "height": 34
        },
        "outputId": "81d85f0f-c49f-47da-de8e-3b683f8d1847"
      },
      "source": [
        "df.shape # 전체 데이터프레임의 행*열 규모 파악"
      ],
      "execution_count": 50,
      "outputs": [
        {
          "output_type": "execute_result",
          "data": {
            "text/plain": [
              "(515827, 22)"
            ]
          },
          "metadata": {
            "tags": []
          },
          "execution_count": 50
        }
      ]
    },
    {
      "cell_type": "markdown",
      "metadata": {
        "id": "EfGRSs8F8U-e",
        "colab_type": "text"
      },
      "source": [
        "## 월급, 연봉 추정"
      ]
    },
    {
      "cell_type": "code",
      "metadata": {
        "id": "ValHWMlF8U-f",
        "colab_type": "code",
        "colab": {
          "base_uri": "https://localhost:8080/",
          "height": 119
        },
        "outputId": "be43e645-0901-4d78-dfff-64020b7fd964"
      },
      "source": [
        "(df_main['고지금액'] / df_main['가입자수']).head()"
      ],
      "execution_count": 51,
      "outputs": [
        {
          "output_type": "execute_result",
          "data": {
            "text/plain": [
              "0   158544.00\n",
              "1   252189.23\n",
              "2   345681.43\n",
              "3   199123.57\n",
              "4   421241.01\n",
              "dtype: float64"
            ]
          },
          "metadata": {
            "tags": []
          },
          "execution_count": 51
        }
      ]
    },
    {
      "cell_type": "code",
      "metadata": {
        "id": "NF0cO2xF8U-i",
        "colab_type": "code",
        "colab": {}
      },
      "source": [
        "df_main['인당고지금액'] = df_main['고지금액'] / df_main['가입자수']\n",
        "df['인당고지금액'] = df['고지금액'] / df['가입자수']"
      ],
      "execution_count": 52,
      "outputs": []
    },
    {
      "cell_type": "code",
      "metadata": {
        "id": "hMezvXSl8U-m",
        "colab_type": "code",
        "colab": {
          "base_uri": "https://localhost:8080/",
          "height": 119
        },
        "outputId": "d86b5557-252b-4ecf-8ffb-c3a9a3541cc4"
      },
      "source": [
        "df_main['인당고지금액'].head()"
      ],
      "execution_count": 53,
      "outputs": [
        {
          "output_type": "execute_result",
          "data": {
            "text/plain": [
              "0   158544.00\n",
              "1   252189.23\n",
              "2   345681.43\n",
              "3   199123.57\n",
              "4   421241.01\n",
              "Name: 인당고지금액, dtype: float64"
            ]
          },
          "metadata": {
            "tags": []
          },
          "execution_count": 53
        }
      ]
    },
    {
      "cell_type": "markdown",
      "metadata": {
        "id": "pmQ3hqgU8U-p",
        "colab_type": "text"
      },
      "source": [
        "**국민연금 정보로 어떻게 연봉정보를 계산하나요?**\n",
        "\n",
        "\n",
        "국민연금 보험률은 9%입니다. 쉽게 이야기 하면 급여(신고소득월액)의 9%를 국민연금으로 내는 것입니다. \n",
        "\n",
        "하지만 이를 절반으로 나누어 **4.5%는 회사가, 나머지 절반은 개인이 부담하는 구조**입니다. 회사는 급여 외에 추가로 금액을 부담합니다.\n",
        "\n",
        "국민연금 보험료는 **소득 상한선과 하한선이 설정되어 있어 소득 전체가 아닌 일부 소득에만 부과**됩니다.\n",
        "\n",
        "이를 역산하면 신고소득월액의 계산이 가능합니다. 하지만 **상한선과 하한선이 설정되어 있어 실제보다 과소계산**될 수 있습니다"
      ]
    },
    {
      "cell_type": "markdown",
      "metadata": {
        "id": "V9l-zRlT8U-p",
        "colab_type": "text"
      },
      "source": [
        "[수식]\n",
        "\n",
        "- 임직원 평균 월급 = 인당고지금액 / 9% * 100%\n",
        "- 임직원 평균 연봉 = 임직원 평균 월급 * 12개월"
      ]
    },
    {
      "cell_type": "markdown",
      "metadata": {
        "id": "17NeBH27SLKp",
        "colab_type": "text"
      },
      "source": [
        ""
      ]
    },
    {
      "cell_type": "code",
      "metadata": {
        "id": "ckoXOvFK8U-t",
        "colab_type": "code",
        "colab": {}
      },
      "source": [
        "df_main['평균월급'] = df_main['인당고지금액'] / 9 * 100\n",
        "df['평균월급'] = df['인당고지금액'] / 9 * 100"
      ],
      "execution_count": 54,
      "outputs": []
    },
    {
      "cell_type": "code",
      "metadata": {
        "id": "c1OyIwff8U-x",
        "colab_type": "code",
        "colab": {}
      },
      "source": [
        "df_main['평균연봉'] = df_main['평균월급'] * 12\n",
        "df['평균연봉'] = df['평균월급'] * 12"
      ],
      "execution_count": 55,
      "outputs": []
    },
    {
      "cell_type": "code",
      "metadata": {
        "id": "IjC03x2m8U-z",
        "colab_type": "code",
        "colab": {
          "base_uri": "https://localhost:8080/",
          "height": 34
        },
        "outputId": "6cd0c092-674a-414f-bbae-f99dd375033a"
      },
      "source": [
        "df_main['평균월급'].notnull().sum()"
      ],
      "execution_count": 56,
      "outputs": [
        {
          "output_type": "execute_result",
          "data": {
            "text/plain": [
              "490078"
            ]
          },
          "metadata": {
            "tags": []
          },
          "execution_count": 56
        }
      ]
    },
    {
      "cell_type": "code",
      "metadata": {
        "id": "a7FxfQm2pjt3",
        "colab_type": "code",
        "colab": {}
      },
      "source": [
        "plt.rc('font', family='NanumBarunGothic') "
      ],
      "execution_count": 58,
      "outputs": []
    },
    {
      "cell_type": "code",
      "metadata": {
        "id": "Ooj6Fknh8U-2",
        "colab_type": "code",
        "colab": {
          "base_uri": "https://localhost:8080/",
          "height": 462
        },
        "outputId": "46c7e697-cb5d-4219-de09-42daa0faf6c9"
      },
      "source": [
        "plt.figure(figsize=(10, 7))\n",
        "sns.distplot(df_main.loc[df_main['평균연봉'].notnull(), '평균연봉'])\n",
        "plt.title('평균연봉', fontsize=18)\n",
        "plt.show()"
      ],
      "execution_count": 59,
      "outputs": [
        {
          "output_type": "display_data",
          "data": {
            "image/png": "[encoded data removed]",
            "text/plain": [
              "<Figure size 720x504 with 1 Axes>"
            ]
          },
          "metadata": {
            "tags": [],
            "needs_background": "light"
          }
        }
      ]
    }
  ]
}